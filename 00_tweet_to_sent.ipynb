{
 "cells": [
  {
   "cell_type": "markdown",
   "metadata": {},
   "source": [
    "# Convert Tweets To Sentiments\n",
    "\n",
    "Take the 500 tweets I collected previously and execute the basic NLP algorithm Vader on the texts of the tweets:\n",
    "  * collect the values for positive and negative sentiments for every tweet\n",
    "  * take the mean for positive and negative sentiments for every day\n",
    "  * store the positive and negative means into a new CSV"
   ]
  },
  {
   "cell_type": "code",
   "execution_count": 94,
   "metadata": {},
   "outputs": [],
   "source": [
    "from nltk.sentiment.vader import SentimentIntensityAnalyzer\n",
    "import pandas as pd\n",
    "from nltk import tokenize\n",
    "import nltk\n",
    "import glob"
   ]
  },
  {
   "cell_type": "code",
   "execution_count": 95,
   "metadata": {},
   "outputs": [
    {
     "name": "stderr",
     "output_type": "stream",
     "text": [
      "[nltk_data] Downloading package punkt to /home/jovyan/nltk_data...\n",
      "[nltk_data]   Package punkt is already up-to-date!\n",
      "[nltk_data] Downloading package vader_lexicon to\n",
      "[nltk_data]     /home/jovyan/nltk_data...\n",
      "[nltk_data]   Package vader_lexicon is already up-to-date!\n"
     ]
    },
    {
     "data": {
      "text/plain": [
       "True"
      ]
     },
     "execution_count": 95,
     "metadata": {},
     "output_type": "execute_result"
    }
   ],
   "source": [
    "nltk.download('punkt')\n",
    "nltk.download('vader_lexicon')"
   ]
  },
  {
   "cell_type": "code",
   "execution_count": 96,
   "metadata": {},
   "outputs": [],
   "source": [
    "sid = SentimentIntensityAnalyzer()"
   ]
  },
  {
   "cell_type": "markdown",
   "metadata": {},
   "source": [
    "Everyday's 500 tweets are stored into a seperate file. \n",
    "  * The __first__ for loop goes through this files.\n",
    "\n",
    "Every file consists of CSV with tweet text and additional other meta data.\n",
    "  * The __second__ for loop goes through this DataFrame and tokenizes it using NLTK.\n",
    "\n",
    "Every tweet probably consists of multiple sentences.\n",
    "  * The __third__ for loop goes through these tokenized sentences and extracts sentiment scores for each one and sums it up for negative and positive polarity.\n",
    "  \n",
    "Afterwards the collected and summed score will be normalized by the length of total tweets."
   ]
  },
  {
   "cell_type": "code",
   "execution_count": 105,
   "metadata": {},
   "outputs": [],
   "source": [
    "files = glob.glob(\"eco_data/#economy*\")\n",
    "\n",
    "tweets_sentiments_list = []\n",
    "for file_str in files:\n",
    "    date=\"\"\n",
    "    length=0\n",
    "    tweets = pd.read_csv(file_str+\"/tweets.csv\")\n",
    "    if length==0:\n",
    "        length = tweets.shape[0]\n",
    "    if not date:\n",
    "        date = tweets.iloc[0].date\n",
    "    neg_counter = 0\n",
    "    pos_counter = 0\n",
    "    for tweet in tweets.tweet:\n",
    "        lines_list = tokenize.sent_tokenize(tweet)\n",
    "        for sen in lines_list:\n",
    "            ss = sid.polarity_scores(sen)\n",
    "            neg_counter += ss[\"neg\"]\n",
    "            pos_counter += ss[\"pos\"]\n",
    "            \n",
    "            # here is a bug, the summed sentiment scores have to be normalized by number of sentiments too\n",
    "            # isnt really bad but will bias the data as longer tweets will get higher scores\n",
    "    \n",
    "    neg_counter = neg_counter / length\n",
    "    pos_counter = pos_counter / length\n",
    "    \n",
    "    tweets_sentiments_list.append({\"date\":date,\n",
    "                                   \"length\":length,\n",
    "                                   \"pos\": pos_counter,\n",
    "                                   \"neg\": neg_counter})"
   ]
  },
  {
   "cell_type": "code",
   "execution_count": 106,
   "metadata": {},
   "outputs": [],
   "source": [
    "tweet_sent_df = pd.DataFrame(tweets_sentiments_list)"
   ]
  },
  {
   "cell_type": "code",
   "execution_count": 107,
   "metadata": {},
   "outputs": [
    {
     "data": {
      "text/html": [
       "<div>\n",
       "<style scoped>\n",
       "    .dataframe tbody tr th:only-of-type {\n",
       "        vertical-align: middle;\n",
       "    }\n",
       "\n",
       "    .dataframe tbody tr th {\n",
       "        vertical-align: top;\n",
       "    }\n",
       "\n",
       "    .dataframe thead th {\n",
       "        text-align: right;\n",
       "    }\n",
       "</style>\n",
       "<table border=\"1\" class=\"dataframe\">\n",
       "  <thead>\n",
       "    <tr style=\"text-align: right;\">\n",
       "      <th></th>\n",
       "      <th>date</th>\n",
       "      <th>length</th>\n",
       "      <th>pos</th>\n",
       "      <th>neg</th>\n",
       "    </tr>\n",
       "  </thead>\n",
       "  <tbody>\n",
       "    <tr>\n",
       "      <th>0</th>\n",
       "      <td>2016-01-12</td>\n",
       "      <td>514</td>\n",
       "      <td>0.086444</td>\n",
       "      <td>0.049940</td>\n",
       "    </tr>\n",
       "    <tr>\n",
       "      <th>1</th>\n",
       "      <td>2020-01-29</td>\n",
       "      <td>518</td>\n",
       "      <td>0.109886</td>\n",
       "      <td>0.060622</td>\n",
       "    </tr>\n",
       "    <tr>\n",
       "      <th>2</th>\n",
       "      <td>2017-03-08</td>\n",
       "      <td>500</td>\n",
       "      <td>0.075390</td>\n",
       "      <td>0.071758</td>\n",
       "    </tr>\n",
       "    <tr>\n",
       "      <th>3</th>\n",
       "      <td>2018-07-22</td>\n",
       "      <td>334</td>\n",
       "      <td>0.094775</td>\n",
       "      <td>0.058647</td>\n",
       "    </tr>\n",
       "    <tr>\n",
       "      <th>4</th>\n",
       "      <td>2016-04-25</td>\n",
       "      <td>450</td>\n",
       "      <td>0.087584</td>\n",
       "      <td>0.049909</td>\n",
       "    </tr>\n",
       "  </tbody>\n",
       "</table>\n",
       "</div>"
      ],
      "text/plain": [
       "         date  length       pos       neg\n",
       "0  2016-01-12     514  0.086444  0.049940\n",
       "1  2020-01-29     518  0.109886  0.060622\n",
       "2  2017-03-08     500  0.075390  0.071758\n",
       "3  2018-07-22     334  0.094775  0.058647\n",
       "4  2016-04-25     450  0.087584  0.049909"
      ]
     },
     "execution_count": 107,
     "metadata": {},
     "output_type": "execute_result"
    }
   ],
   "source": [
    "tweet_sent_df.head()"
   ]
  },
  {
   "cell_type": "markdown",
   "metadata": {},
   "source": [
    "Setting a datetime index and sorting the tweets by it, afterwards storing the resutling DataFrame into an CSV for later processing."
   ]
  },
  {
   "cell_type": "code",
   "execution_count": 108,
   "metadata": {},
   "outputs": [],
   "source": [
    "tweet_sent_df = tweet_sent_df.set_index(\"date\")"
   ]
  },
  {
   "cell_type": "code",
   "execution_count": 109,
   "metadata": {},
   "outputs": [],
   "source": [
    "tweet_sent_df = tweet_sent_df.sort_values(by=\"date\")"
   ]
  },
  {
   "cell_type": "code",
   "execution_count": 110,
   "metadata": {},
   "outputs": [],
   "source": [
    "tweet_sent_df.to_csv(\"data/economy_sentiments.csv\")"
   ]
  },
  {
   "cell_type": "code",
   "execution_count": 92,
   "metadata": {},
   "outputs": [
    {
     "data": {
      "text/html": [
       "<div>\n",
       "<style scoped>\n",
       "    .dataframe tbody tr th:only-of-type {\n",
       "        vertical-align: middle;\n",
       "    }\n",
       "\n",
       "    .dataframe tbody tr th {\n",
       "        vertical-align: top;\n",
       "    }\n",
       "\n",
       "    .dataframe thead th {\n",
       "        text-align: right;\n",
       "    }\n",
       "</style>\n",
       "<table border=\"1\" class=\"dataframe\">\n",
       "  <thead>\n",
       "    <tr style=\"text-align: right;\">\n",
       "      <th></th>\n",
       "      <th>length</th>\n",
       "      <th>pos</th>\n",
       "      <th>neg</th>\n",
       "    </tr>\n",
       "    <tr>\n",
       "      <th>date</th>\n",
       "      <th></th>\n",
       "      <th></th>\n",
       "      <th></th>\n",
       "    </tr>\n",
       "  </thead>\n",
       "  <tbody>\n",
       "    <tr>\n",
       "      <th>2015-01-01</th>\n",
       "      <td>1716</td>\n",
       "      <td>0.153879</td>\n",
       "      <td>0.043424</td>\n",
       "    </tr>\n",
       "    <tr>\n",
       "      <th>2015-01-02</th>\n",
       "      <td>1699</td>\n",
       "      <td>0.134617</td>\n",
       "      <td>0.035322</td>\n",
       "    </tr>\n",
       "    <tr>\n",
       "      <th>2015-01-03</th>\n",
       "      <td>1719</td>\n",
       "      <td>0.141888</td>\n",
       "      <td>0.061588</td>\n",
       "    </tr>\n",
       "    <tr>\n",
       "      <th>2015-01-04</th>\n",
       "      <td>1320</td>\n",
       "      <td>0.131757</td>\n",
       "      <td>0.060844</td>\n",
       "    </tr>\n",
       "    <tr>\n",
       "      <th>2015-01-05</th>\n",
       "      <td>1228</td>\n",
       "      <td>0.107428</td>\n",
       "      <td>0.072953</td>\n",
       "    </tr>\n",
       "  </tbody>\n",
       "</table>\n",
       "</div>"
      ],
      "text/plain": [
       "            length       pos       neg\n",
       "date                                  \n",
       "2015-01-01    1716  0.153879  0.043424\n",
       "2015-01-02    1699  0.134617  0.035322\n",
       "2015-01-03    1719  0.141888  0.061588\n",
       "2015-01-04    1320  0.131757  0.060844\n",
       "2015-01-05    1228  0.107428  0.072953"
      ]
     },
     "execution_count": 92,
     "metadata": {},
     "output_type": "execute_result"
    }
   ],
   "source": [
    "tweet_sent_df.head()"
   ]
  }
 ],
 "metadata": {
  "kernelspec": {
   "display_name": "Python 3",
   "language": "python",
   "name": "python3"
  },
  "language_info": {
   "codemirror_mode": {
    "name": "ipython",
    "version": 3
   },
   "file_extension": ".py",
   "mimetype": "text/x-python",
   "name": "python",
   "nbconvert_exporter": "python",
   "pygments_lexer": "ipython3",
   "version": "3.7.6"
  }
 },
 "nbformat": 4,
 "nbformat_minor": 4
}
